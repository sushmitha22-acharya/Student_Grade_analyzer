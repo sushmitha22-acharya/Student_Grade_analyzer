{
  "nbformat": 4,
  "nbformat_minor": 0,
  "metadata": {
    "colab": {
      "provenance": []
    },
    "kernelspec": {
      "name": "python3",
      "display_name": "Python 3"
    },
    "language_info": {
      "name": "python"
    }
  },
  "cells": [
    {
      "cell_type": "code",
      "execution_count": null,
      "metadata": {
        "id": "Ec_mOD4cFwHu"
      },
      "outputs": [],
      "source": [
        "# Import necessary libraries\n",
        "import matplotlib.pyplot as plt\n",
        "import numpy as np\n"
      ]
    },
    {
      "cell_type": "code",
      "source": [
        "# Input number of students\n",
        "num_students = int(input(\"Enter the number of students: \"))\n",
        "\n",
        "# Create empty lists to store student data\n",
        "names = []\n",
        "marks = []\n",
        "\n",
        "# Get student names and marks\n",
        "for i in range(num_students):\n",
        "    name = input(f\"Enter name of student {i+1}: \")\n",
        "    mark = float(input(f\"Enter marks for {name} (out of 100): \"))\n",
        "\n",
        "    names.append(name)\n",
        "    marks.append(mark)\n"
      ],
      "metadata": {
        "colab": {
          "base_uri": "https://localhost:8080/"
        },
        "id": "FG6jpPLPF3Tf",
        "outputId": "5d7de131-335f-4f9a-b51e-fd82c945de9c"
      },
      "execution_count": null,
      "outputs": [
        {
          "name": "stdout",
          "output_type": "stream",
          "text": [
            "Enter the number of students: 2\n",
            "Enter name of student 1: Ram\n",
            "Enter marks for Ram (out of 100): 100\n",
            "Enter name of student 2: shayam\n",
            "Enter marks for shayam (out of 100): 50\n"
          ]
        }
      ]
    },
    {
      "cell_type": "code",
      "source": [
        "# Calculate total and average\n",
        "total_marks = sum(marks)\n",
        "average_marks = total_marks / num_students\n",
        "\n",
        "# Function to assign grade based on marks\n",
        "def assign_grade(mark):\n",
        "    if mark >= 90:\n",
        "        return 'A+'\n",
        "    elif mark >= 80:\n",
        "        return 'A'\n",
        "    elif mark >= 70:\n",
        "        return 'B'\n",
        "    elif mark >= 60:\n",
        "        return 'C'\n",
        "    elif mark >= 50:\n",
        "        return 'D'\n",
        "    else:\n",
        "        return 'F'\n",
        "\n",
        "# Assign grades to each student\n",
        "grades = [assign_grade(mark) for mark in marks]\n",
        "\n",
        "# Display results\n",
        "print(\"\\nStudent Report:\")\n",
        "print(f\"{'Name':15}{'Marks':10}{'Grade':10}\")\n",
        "for name, mark, grade in zip(names, marks, grades):\n",
        "    print(f\"{name:15}{mark:<10}{grade:<10}\")\n",
        "\n",
        "print(f\"\\nTotal Marks: {total_marks}\")\n",
        "print(f\"Average Marks: {average_marks:.2f}\")\n"
      ],
      "metadata": {
        "colab": {
          "base_uri": "https://localhost:8080/"
        },
        "id": "51ljdyJYGDrJ",
        "outputId": "968f09c6-982f-435a-89cf-5d4819d8cb7f"
      },
      "execution_count": null,
      "outputs": [
        {
          "output_type": "stream",
          "name": "stdout",
          "text": [
            "\n",
            "Student Report:\n",
            "Name           Marks     Grade     \n",
            "Ram            100.0     A+        \n",
            "shayam         50.0      D         \n",
            "\n",
            "Total Marks: 150.0\n",
            "Average Marks: 75.00\n"
          ]
        }
      ]
    },
    {
      "cell_type": "code",
      "source": [
        "# Create bar chart for student marks\n",
        "plt.figure(figsize=(10,6))\n",
        "bars = plt.bar(names, marks, color='skyblue')\n",
        "plt.axhline(average_marks, color='red', linestyle='--', label=f'Average: {average_marks:.2f}')\n",
        "plt.xlabel('Students')\n",
        "plt.ylabel('Marks')\n",
        "plt.title('Student Marks Analysis')\n",
        "plt.ylim(0, 100)\n",
        "\n",
        "# Annotate bars with the grade\n",
        "for bar, grade in zip(bars, grades):\n",
        "    yval = bar.get_height()\n",
        "    plt.text(bar.get_x() + bar.get_width()/2, yval + 1, grade, ha='center', fontsize=10)\n",
        "\n",
        "plt.legend()\n",
        "plt.show()\n"
      ],
      "metadata": {
        "colab": {
          "base_uri": "https://localhost:8080/",
          "height": 564
        },
        "id": "7t8rTtRKGHaI",
        "outputId": "7dd7dbb2-abae-4dfd-80f4-0bd01e43ae32"
      },
      "execution_count": null,
      "outputs": [
        {
          "output_type": "display_data",
          "data": {
            "text/plain": [
              "<Figure size 1000x600 with 1 Axes>"
            ],
            "image/png": "[encoded data removed]"
          },
          "metadata": {}
        }
      ]
    },
    {
      "cell_type": "code",
      "source": [
        "# Save the plot as an image file\n",
        "plt.savefig(\"student_marks_report.png\")\n",
        "print(\"The report has been saved as 'student_marks_report.png'.\")\n"
      ],
      "metadata": {
        "colab": {
          "base_uri": "https://localhost:8080/",
          "height": 52
        },
        "id": "bcR5uIIkGKAI",
        "outputId": "4dd2b887-7aac-4943-dfd6-1f5d74c6cca6"
      },
      "execution_count": null,
      "outputs": [
        {
          "output_type": "stream",
          "name": "stdout",
          "text": [
            "The report has been saved as 'student_marks_report.png'.\n"
          ]
        },
        {
          "output_type": "display_data",
          "data": {
            "text/plain": [
              "<Figure size 640x480 with 0 Axes>"
            ]
          },
          "metadata": {}
        }
      ]
    }
  ]
}